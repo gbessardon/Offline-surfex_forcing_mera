{
 "cells": [
  {
   "cell_type": "code",
   "execution_count": 12,
   "metadata": {},
   "outputs": [],
   "source": [
    "fn='user_mera_default.yml'"
   ]
  },
  {
   "cell_type": "code",
   "execution_count": 19,
   "metadata": {},
   "outputs": [],
   "source": [
    "f=open(fn)"
   ]
  },
  {
   "cell_type": "code",
   "execution_count": 20,
   "metadata": {},
   "outputs": [
    {
     "name": "stdout",
     "output_type": "stream",
     "text": [
      "        parameter: 8\n",
      "\n",
      "          parameter: 8\n",
      "\n",
      "          parameter: 11\n",
      "\n",
      "          parameter: 51\n",
      "\n",
      "            parameter: 52\n",
      "\n",
      "            parameter: 11\n",
      "\n",
      "            parameter: 1\n",
      "\n",
      "          parameter: 32\n",
      "\n",
      "            parameter: 33\n",
      "\n",
      "            parameter: 34\n",
      "\n",
      "          parameter: 31\n",
      "\n",
      "            parameter: 33\n",
      "\n",
      "            parameter: 34\n",
      "\n",
      "        parameter: 221\n",
      "\n",
      "          parameter: 61\n",
      "\n",
      "          parameter: 184\n",
      "\n",
      "        parameter: 184\n",
      "\n",
      "        parameter: 1\n",
      "\n",
      "        parameter: 116\n",
      "\n",
      "        parameter: 117\n",
      "\n",
      "        parameter: 115\n",
      "\n"
     ]
    }
   ],
   "source": [
    "for l in f.readlines():\n",
    "    if 'parameter:' in l:\n",
    "        print(l)"
   ]
  },
  {
   "cell_type": "code",
   "execution_count": 8,
   "metadata": {},
   "outputs": [
    {
     "data": {
      "text/plain": [
       "[]"
      ]
     },
     "execution_count": 8,
     "metadata": {},
     "output_type": "execute_result"
    }
   ],
   "source": [
    "lines"
   ]
  },
  {
   "cell_type": "code",
   "execution_count": null,
   "metadata": {},
   "outputs": [],
   "source": []
  }
 ],
 "metadata": {
  "kernelspec": {
   "display_name": "Python 3",
   "language": "python",
   "name": "python3"
  },
  "language_info": {
   "codemirror_mode": {
    "name": "ipython",
    "version": 3
   },
   "file_extension": ".py",
   "mimetype": "text/x-python",
   "name": "python",
   "nbconvert_exporter": "python",
   "pygments_lexer": "ipython3",
   "version": "3.6.8"
  }
 },
 "nbformat": 4,
 "nbformat_minor": 4
}
